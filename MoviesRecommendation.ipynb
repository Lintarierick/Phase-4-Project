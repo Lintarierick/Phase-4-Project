{
  "nbformat": 4,
  "nbformat_minor": 0,
  "metadata": {
    "colab": {
      "provenance": [],
      "authorship_tag": "ABX9TyMoYGQ3jXELYws+CZ/6ioDt"
    },
    "kernelspec": {
      "name": "python3",
      "display_name": "Python 3"
    },
    "language_info": {
      "name": "python"
    }
  },
  "cells": [
    {
      "cell_type": "markdown",
      "source": [
        "# **Unveiling Film Tastes: A Personalized Movie Journey through Smart Recommendations.**\n",
        "\n",
        "\n",
        "\n",
        "\n",
        "\n"
      ],
      "metadata": {
        "id": "rpQH9kga-YzV"
      }
    },
    {
      "cell_type": "markdown",
      "source": [
        "Group 2:\n",
        "\n",
        "         Eric Lintari.\n",
        "        Kamande Karigi.\n",
        "        Lucy Waruguru.\n",
        "        Victor Gachie.\n",
        "        Cynthia Wanyeki.\n",
        "\n",
        "Technical Mentor:  Diana Mong'ina.\n",
        "\n",
        "Phase 4 Project: Recommendation System.\n",
        "\n",
        "Deadline: 18th January 2024."
      ],
      "metadata": {
        "id": "cqAmySTm_S7C"
      }
    },
    {
      "cell_type": "markdown",
      "source": [
        "# **TABLE OF CONTENTS.**"
      ],
      "metadata": {
        "id": "sihah2ahAOMR"
      }
    },
    {
      "cell_type": "markdown",
      "source": [
        "\n",
        "![mrec1.jpg](data:image/jpeg;base64,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)"
      ],
      "metadata": {
        "id": "UPHJBbT_0mA0"
      }
    },
    {
      "cell_type": "markdown",
      "source": [
        "# **INTRODUCTION.**"
      ],
      "metadata": {
        "id": "kiX6Ad9pA3Yp"
      }
    },
    {
      "cell_type": "markdown",
      "source": [
        "The goal of this project is to delve into user behavior within the rise of movie streaming platforms and construct a model that enhances user engagement, ultimately leading to an enriched cinematic experience.\n",
        "\n",
        "In today's digital age, online streaming has become the predominant avenue for accessing diverse cinematic content. The vastness of movie catalogs poses a challenge for users in selecting content tailored to their individual preferences. By comprehensively analyzing user behavior, we aim to build a recommendation system that simplifies the process of navigating through this cinematic maze, ensuring that users discover and enjoy movies that align closely with their tastes.\n",
        "\n",
        "The significance of such a system lies in its potential to not only improve user satisfaction and retention but also to foster a dynamic and engaging movie-watching environment. Leveraging real-time project datasets sourced from platforms like [movielens](https://grouplens.org/datasets/movielens/latest/), our analysis will focus on a variety of user interactions, ratings, and viewing patterns to build a model that resonates with the diverse preferences of our audience. Through this project, we aspire to bring forth a personalized and enjoyable cinematic journey for each user.\n",
        "\n",
        "\n",
        "\n",
        "\n",
        "\n"
      ],
      "metadata": {
        "id": "Xa_2H7auA7iC"
      }
    },
    {
      "cell_type": "markdown",
      "source": [
        "# **BUSINESS UNDERSTANDING.**"
      ],
      "metadata": {
        "id": "Q9PIKFsd1u2S"
      }
    },
    {
      "cell_type": "markdown",
      "source": [
        "The film industry boasts of a vast array of genres, ranging from action and drama to comedy, science fiction, horror, and beyond. Each genre caters to distinct tastes and moods, offering a rich tapestry of cinematic experiences. While this diversity is an advantage for movie enthusiasts, it also poses a challenge—the dilemma of choosing the perfect film from the extensive selection.\n",
        "\n",
        "For users, navigating through this abundance of options can be a daunting task. The sheer volume of movies available makes decision-making overwhelming, especially when the goal is to ensure not just any watch but an enjoyable and satisfying cinematic experience. Consequently, businesses operating in this industry must delve into the complexities of user preferences to provide tailored recommendations and enhance the overall movie-watching experience."
      ],
      "metadata": {
        "id": "_PNcpWMi203j"
      }
    },
    {
      "cell_type": "markdown",
      "source": [
        "# **PROBLEM STATEMENT.**"
      ],
      "metadata": {
        "id": "1xTCUhuw3Yjr"
      }
    },
    {
      "cell_type": "markdown",
      "source": [
        "A streaming platform's success depends on how well it keeps users happy and interested. One big factor is the recommendation system – the feature that suggests movies for you to watch. This is crucial because there are so many movies on the platform, and everyone likes different things. It's like trying to find your way in a big, confusing maze.\n",
        "\n",
        "People's taste in movies is very personal. What one person loves, another might not enjoy at all. So, predicting what movies a person will like is tricky. That's where our project comes in. We want to create a recommendation system that looks at what movies you've watched before, how you've rated them, and what other people who like similar things enjoyed. This way, we can suggest movies that match your taste, making it easier for you to discover and enjoy films that you'll probably love.\n",
        "\n",
        "\n",
        "\n",
        "\n",
        "\n"
      ],
      "metadata": {
        "id": "sIPsvsoQ4ZVa"
      }
    },
    {
      "cell_type": "markdown",
      "source": [
        "# **OBJECTIVES.**"
      ],
      "metadata": {
        "id": "pVmo4bsC4b8z"
      }
    },
    {
      "cell_type": "markdown",
      "source": [
        "\n",
        "1.\t**Enhance User Experience:**\n",
        "•\tIncrease user engagement by providing personalized movie recommendations.\n",
        "•\tImprove user satisfaction by suggesting movies aligned with individual tastes.\n",
        "\n",
        "\n",
        "2.\t**Increase User Retention:**\n",
        "•\tRetain users by offering a compelling and personalized movie-watching experience.\n",
        "•\tEncourage users to spend more time on the platform through relevant recommendations.\n",
        "\n",
        "\n",
        "3.\t**Drive Revenue:**\n",
        "•\tIncrease the consumption of movies by recommending content that aligns with users' interests.\n",
        "•\tPotentially increase revenue through ad views or premium subscriptions.\n"
      ],
      "metadata": {
        "id": "PRmq_wFP46IC"
      }
    },
    {
      "cell_type": "markdown",
      "source": [
        "# **SOURCE OF DATA.**"
      ],
      "metadata": {
        "id": "J-VRci5w5K2R"
      }
    },
    {
      "cell_type": "markdown",
      "source": [
        "\n",
        "The data used was sourced from [MovieLens](https://grouplens.org/datasets/movielens/latest/). We used the small dataset due to limited computational power. We selected the four files in line with project objectives.\n",
        "\n",
        "\n",
        " **Movies.csv:** Contains information about the movies.\n",
        "\n",
        "\n",
        "movieId - Unique identifier for each movie.\n",
        "\n",
        "title - The movie titles.\n",
        "\n",
        "genre - The various genres a movie falls into.\n",
        "\n",
        "**Links.csv:**\n",
        "\n",
        "•\tColumns: movieId, imdbId, tmdbId\n",
        "\n",
        "•\tInsights:\n",
        "•\tmovieId is likely the key that can be used to link this DataFrame with other DataFrames.\n",
        "•\timdbId and tmdbId could be useful for external references to IMDb and TMDB.\n",
        "\n",
        "\n",
        "**Ratings.csv:**\n",
        "\n",
        "•\tColumns: userId, movieId, rating, timestamp\n",
        "\n",
        "•\tInsights:\n",
        "•\tuserId and movieId are crucial for identifying users and movies.\n",
        "\n",
        "•\trating represents the user's rating for a movie.\n",
        "\n",
        "•\ttimestamp indicates when the rating was given.\n",
        "\n",
        "\n",
        "**Tags.csv:**\n",
        "\n",
        "•\tColumns: userId, movieId, tag, timestamp\n",
        "\n",
        "•\tInsights:\n",
        "•\tSimilar structure to the Ratings DataFrame.\n",
        "\n",
        "•\tAdditional information in the form of tags, providing more context about movies.\n",
        "\n",
        "•\tThe tag column is of type object (likely string), which contains textual information.\n"
      ],
      "metadata": {
        "id": "zq6Y9l5959d7"
      }
    },
    {
      "cell_type": "markdown",
      "source": [
        "# **IMPORTING LIBRARIES.**"
      ],
      "metadata": {
        "id": "Uv6hG5Uo8vaR"
      }
    },
    {
      "cell_type": "code",
      "source": [
        "# Import necessary libraries.\n",
        "import pandas as pd\n",
        "import numpy as np\n",
        "import matplotlib.pyplot as plt\n",
        "%matplotlib inline\n",
        "import datetime\n",
        "from scipy import stats\n",
        "import seaborn as sns\n",
        "!pip install scikit-surprise\n",
        "from surprise import Dataset, Reader\n",
        "from surprise import accuracy\n",
        "from surprise.model_selection import train_test_split\n",
        "from surprise.model_selection import train_test_split, cross_validate\n",
        "from sklearn.metrics import mean_squared_error\n",
        "from surprise.model_selection import GridSearchCV\n",
        "from surprise import KNNBasic, KNNWithMeans\n",
        "from surprise import SVD\n",
        "from wordcloud import WordCloud"
      ],
      "metadata": {
        "colab": {
          "base_uri": "https://localhost:8080/"
        },
        "id": "yeVwAl5M9HlA",
        "outputId": "743f639a-4f33-4d88-d98e-6760cefa8a85"
      },
      "execution_count": 17,
      "outputs": [
        {
          "output_type": "stream",
          "name": "stdout",
          "text": [
            "Requirement already satisfied: scikit-surprise in /usr/local/lib/python3.10/dist-packages (1.1.3)\n",
            "Requirement already satisfied: joblib>=1.0.0 in /usr/local/lib/python3.10/dist-packages (from scikit-surprise) (1.3.2)\n",
            "Requirement already satisfied: numpy>=1.17.3 in /usr/local/lib/python3.10/dist-packages (from scikit-surprise) (1.23.5)\n",
            "Requirement already satisfied: scipy>=1.3.2 in /usr/local/lib/python3.10/dist-packages (from scikit-surprise) (1.11.4)\n"
          ]
        }
      ]
    },
    {
      "cell_type": "markdown",
      "source": [
        "**Loading Datasets.**"
      ],
      "metadata": {
        "id": "x9k-1PEu-V54"
      }
    },
    {
      "cell_type": "code",
      "source": [
        "#Loading and reading the datasets.\n",
        "\n",
        "# List of CSV files along with corresponding column names\n",
        "csv_files_and_columns = [\n",
        "    ('movies.csv', ['movieId', 'title', 'genres']),\n",
        "    ('links.csv', ['movieId', 'imdbId', 'tmdbId']),\n",
        "    ('tags.csv', ['userId', 'movieId', 'tag', 'timestamp']),\n",
        "    ('ratings.csv', ['userId', 'movieId', 'rating', 'timestamp'])\n",
        "]\n",
        "\n",
        "# Dictionary to store DataFrames\n",
        "dataframes = {}\n",
        "\n",
        "# Loop through each CSV file and its corresponding columns\n",
        "for csv_file, columns in csv_files_and_columns:\n",
        "    # Extract the DataFrame name from the file name (remove extension)\n",
        "    df_name = csv_file.split('.')[0]\n",
        "\n",
        "    # Read the CSV file into a DataFrame with specified column names\n",
        "    dataframes[df_name] = pd.read_csv(csv_file, delimiter=',', header=0, names=columns, skipinitialspace=True)\n",
        "\n",
        "# Access the DataFrames using keys\n",
        "movies_df = dataframes['movies']\n",
        "links_df = dataframes['links']\n",
        "tags_df = dataframes['tags']\n",
        "ratings_df = dataframes['ratings']\n",
        "\n",
        "# Print the head of each DataFrame\n",
        "for df_name, df in dataframes.items():\n",
        "    print(f\"\\n{df_name}_df:\")\n",
        "    print(df.head())\n"
      ],
      "metadata": {
        "colab": {
          "base_uri": "https://localhost:8080/"
        },
        "id": "dX4Eus1wC-xZ",
        "outputId": "f253a276-3d15-4ddd-b26b-b399fb97da8b"
      },
      "execution_count": 18,
      "outputs": [
        {
          "output_type": "stream",
          "name": "stdout",
          "text": [
            "\n",
            "movies_df:\n",
            "   movieId                               title  \\\n",
            "0        1                    Toy Story (1995)   \n",
            "1        2                      Jumanji (1995)   \n",
            "2        3             Grumpier Old Men (1995)   \n",
            "3        4            Waiting to Exhale (1995)   \n",
            "4        5  Father of the Bride Part II (1995)   \n",
            "\n",
            "                                        genres  \n",
            "0  Adventure|Animation|Children|Comedy|Fantasy  \n",
            "1                   Adventure|Children|Fantasy  \n",
            "2                               Comedy|Romance  \n",
            "3                         Comedy|Drama|Romance  \n",
            "4                                       Comedy  \n",
            "\n",
            "links_df:\n",
            "   movieId  imdbId   tmdbId\n",
            "0        1  114709    862.0\n",
            "1        2  113497   8844.0\n",
            "2        3  113228  15602.0\n",
            "3        4  114885  31357.0\n",
            "4        5  113041  11862.0\n",
            "\n",
            "tags_df:\n",
            "   userId  movieId              tag   timestamp\n",
            "0       2    60756            funny  1445714994\n",
            "1       2    60756  Highly quotable  1445714996\n",
            "2       2    60756     will ferrell  1445714992\n",
            "3       2    89774     Boxing story  1445715207\n",
            "4       2    89774              MMA  1445715200\n",
            "\n",
            "ratings_df:\n",
            "   userId  movieId  rating  timestamp\n",
            "0       1        1     4.0  964982703\n",
            "1       1        3     4.0  964981247\n",
            "2       1        6     4.0  964982224\n",
            "3       1       47     5.0  964983815\n",
            "4       1       50     5.0  964982931\n"
          ]
        }
      ]
    },
    {
      "cell_type": "markdown",
      "source": [
        "All Datasets have a common column, movieID. This will be used in the merging of the datasets."
      ],
      "metadata": {
        "id": "EFMEhr16DimM"
      }
    },
    {
      "cell_type": "markdown",
      "source": [
        "# **Data Understanding.**"
      ],
      "metadata": {
        "id": "tZbMiPmEE3vK"
      }
    },
    {
      "cell_type": "code",
      "source": [
        "# Display information for each dataset\n",
        "print(\"Movies DataFrame:\")\n",
        "print(\"Shape:\", movies_df.shape)\n",
        "print(movies_df.info())\n",
        "print(\"\\n\")\n",
        "\n",
        "print(\"Ratings DataFrame:\")\n",
        "print(\"Shape:\", ratings_df.shape)\n",
        "print(ratings_df.info())\n",
        "print(\"\\n\")\n",
        "\n",
        "print(\"Tags DataFrame:\")\n",
        "print(\"Shape:\", tags_df.shape)\n",
        "print(tags_df.info())\n",
        "print(\"\\n\")\n",
        "\n",
        "print(\"Links DataFrame:\")\n",
        "print(\"Shape:\", links_df.shape)\n",
        "print(links_df.info())"
      ],
      "metadata": {
        "colab": {
          "base_uri": "https://localhost:8080/"
        },
        "id": "u3uKZxMKDubh",
        "outputId": "217d7b1e-416c-41fd-9448-d7b9081c7d30"
      },
      "execution_count": 19,
      "outputs": [
        {
          "output_type": "stream",
          "name": "stdout",
          "text": [
            "Movies DataFrame:\n",
            "Shape: (9742, 3)\n",
            "<class 'pandas.core.frame.DataFrame'>\n",
            "RangeIndex: 9742 entries, 0 to 9741\n",
            "Data columns (total 3 columns):\n",
            " #   Column   Non-Null Count  Dtype \n",
            "---  ------   --------------  ----- \n",
            " 0   movieId  9742 non-null   int64 \n",
            " 1   title    9742 non-null   object\n",
            " 2   genres   9742 non-null   object\n",
            "dtypes: int64(1), object(2)\n",
            "memory usage: 228.5+ KB\n",
            "None\n",
            "\n",
            "\n",
            "Ratings DataFrame:\n",
            "Shape: (100836, 4)\n",
            "<class 'pandas.core.frame.DataFrame'>\n",
            "RangeIndex: 100836 entries, 0 to 100835\n",
            "Data columns (total 4 columns):\n",
            " #   Column     Non-Null Count   Dtype  \n",
            "---  ------     --------------   -----  \n",
            " 0   userId     100836 non-null  int64  \n",
            " 1   movieId    100836 non-null  int64  \n",
            " 2   rating     100836 non-null  float64\n",
            " 3   timestamp  100836 non-null  int64  \n",
            "dtypes: float64(1), int64(3)\n",
            "memory usage: 3.1 MB\n",
            "None\n",
            "\n",
            "\n",
            "Tags DataFrame:\n",
            "Shape: (3683, 4)\n",
            "<class 'pandas.core.frame.DataFrame'>\n",
            "RangeIndex: 3683 entries, 0 to 3682\n",
            "Data columns (total 4 columns):\n",
            " #   Column     Non-Null Count  Dtype \n",
            "---  ------     --------------  ----- \n",
            " 0   userId     3683 non-null   int64 \n",
            " 1   movieId    3683 non-null   int64 \n",
            " 2   tag        3683 non-null   object\n",
            " 3   timestamp  3683 non-null   int64 \n",
            "dtypes: int64(3), object(1)\n",
            "memory usage: 115.2+ KB\n",
            "None\n",
            "\n",
            "\n",
            "Links DataFrame:\n",
            "Shape: (9742, 3)\n",
            "<class 'pandas.core.frame.DataFrame'>\n",
            "RangeIndex: 9742 entries, 0 to 9741\n",
            "Data columns (total 3 columns):\n",
            " #   Column   Non-Null Count  Dtype  \n",
            "---  ------   --------------  -----  \n",
            " 0   movieId  9742 non-null   int64  \n",
            " 1   imdbId   9742 non-null   int64  \n",
            " 2   tmdbId   9734 non-null   float64\n",
            "dtypes: float64(1), int64(2)\n",
            "memory usage: 228.5 KB\n",
            "None\n"
          ]
        }
      ]
    },
    {
      "cell_type": "markdown",
      "source": [
        "**Movies Dataframe:**\n",
        "\n",
        "Rows-9742\n",
        "\n",
        "Columns-3\n",
        "\n",
        "\n",
        "**Ratings Dataframe:**\n",
        "\n",
        "Rows-100,836\n",
        "\n",
        "Columns-4\n",
        "\n",
        "\n",
        "**Links Dataframe:**\n",
        "\n",
        "Rows-9742\n",
        "\n",
        "Columns-3\n",
        "\n",
        "\n",
        "**Tags Dataframe:**\n",
        "\n",
        "Rows-3683\n",
        "\n",
        "Columns-4"
      ],
      "metadata": {
        "id": "u7pxL-kCFHCL"
      }
    },
    {
      "cell_type": "markdown",
      "source": [
        "Check for Datatypes of each column."
      ],
      "metadata": {
        "id": "962OpB0uGFiM"
      }
    },
    {
      "cell_type": "code",
      "source": [
        "# Function to count numerical and categorical variables\n",
        "def count_variable_types(df):\n",
        "    numerical_cols = df.select_dtypes(include=['int64', 'float64']).columns\n",
        "    categorical_cols = df.select_dtypes(include=['object']).columns\n",
        "    return len(numerical_cols), len(categorical_cols)\n",
        "\n",
        "# Display counts for each dataset\n",
        "movies_numerical, movies_categorical = count_variable_types(movies_df)\n",
        "links_numerical, links_categorical = count_variable_types(links_df)\n",
        "ratings_numerical, ratings_categorical = count_variable_types(ratings_df)\n",
        "tags_numerical, tags_categorical = count_variable_types(tags_df)\n",
        "\n",
        "# Print results\n",
        "print(f\"Movies Dataset - Numerical Variables: {movies_numerical}, Categorical Variables: {movies_categorical}\")\n",
        "print(f\"Links Dataset - Numerical Variables: {links_numerical}, Categorical Variables: {links_categorical}\")\n",
        "print(f\"Ratings Dataset - Numerical Variables: {ratings_numerical}, Categorical Variables: {ratings_categorical}\")\n",
        "print(f\"Tags Dataset - Numerical Variables: {tags_numerical}, Categorical Variables: {tags_categorical}\")\n"
      ],
      "metadata": {
        "colab": {
          "base_uri": "https://localhost:8080/"
        },
        "id": "Hrhnx6QFIxsZ",
        "outputId": "cc25f9d8-625c-4a8f-da7e-69e4a070138e"
      },
      "execution_count": 20,
      "outputs": [
        {
          "output_type": "stream",
          "name": "stdout",
          "text": [
            "Movies Dataset - Numerical Variables: 1, Categorical Variables: 2\n",
            "Links Dataset - Numerical Variables: 3, Categorical Variables: 0\n",
            "Ratings Dataset - Numerical Variables: 4, Categorical Variables: 0\n",
            "Tags Dataset - Numerical Variables: 3, Categorical Variables: 1\n"
          ]
        }
      ]
    },
    {
      "cell_type": "markdown",
      "source": [
        "**Movies Dataset:**\n",
        "\n",
        "Numerical Variables: 1 (movieId)\n",
        "\n",
        "Categorical Variables: 2 (title and genres)\n",
        "\n",
        "\n",
        "**Links Dataset:**\n",
        "\n",
        "Numerical Variables: 3 (movieId, imdbId, tmdbId)\n",
        "\n",
        "Categorical Variables: 0\n",
        "\n",
        "\n",
        "\n",
        "**Ratings Dataset:**\n",
        "\n",
        "Numerical Variables: 4 (userId, movieId, rating, timestamp)\n",
        "\n",
        "Categorical Variables: 0\n",
        "\n",
        "\n",
        "**Tags Dataset:**\n",
        "\n",
        "Numerical Variables: 3 (userId, movieId, timestamp)\n",
        "\n",
        "Categorical Variables: 1 (tag)"
      ],
      "metadata": {
        "id": "7l_hCaw4JU8q"
      }
    },
    {
      "cell_type": "markdown",
      "source": [
        "Merging Datsets."
      ],
      "metadata": {
        "id": "vOp4hAB0KU9B"
      }
    },
    {
      "cell_type": "code",
      "source": [
        "# Merge movies_df with links_df\n",
        "merged_df = pd.merge(movies_df, links_df, on='movieId', how='left') #to combine general movie information with additional details.\n",
        "\n",
        "# Merge the result with tags_df\n",
        "merged_df = pd.merge(merged_df, tags_df, on='movieId', how='left')  #to incorporate tags.\n",
        "\n",
        "# Merge the final result with ratings_df\n",
        "final_merged_df = pd.merge(merged_df, ratings_df, on='movieId', how='left')  #to include user ratings.\n",
        "\n",
        "# Create a new DataFrame by copying the final merged DataFrame\n",
        "new_df = final_merged_df.copy()\n",
        "\n",
        "# Display information, data types, and the first few rows of the new DataFrame\n",
        "print(\"Info for new DataFrame:\")\n",
        "print(new_df.info())\n",
        "\n",
        "# Display data types of each column\n",
        "print(\"\\nData Types of Columns:\")\n",
        "print(new_df.dtypes)\n",
        "\n",
        "# Display the first few rows of the new DataFrame\n",
        "print(\"\\nFirst few rows of new DataFrame:\")\n",
        "print(new_df.head())\n",
        "\n"
      ],
      "metadata": {
        "colab": {
          "base_uri": "https://localhost:8080/"
        },
        "id": "BqVOdCbsKDk-",
        "outputId": "3e44e49b-877a-4b49-bbab-6b6e786afd0f"
      },
      "execution_count": 21,
      "outputs": [
        {
          "output_type": "stream",
          "name": "stdout",
          "text": [
            "Info for new DataFrame:\n",
            "<class 'pandas.core.frame.DataFrame'>\n",
            "Int64Index: 285783 entries, 0 to 285782\n",
            "Data columns (total 11 columns):\n",
            " #   Column       Non-Null Count   Dtype  \n",
            "---  ------       --------------   -----  \n",
            " 0   movieId      285783 non-null  int64  \n",
            " 1   title        285783 non-null  object \n",
            " 2   genres       285783 non-null  object \n",
            " 3   imdbId       285783 non-null  int64  \n",
            " 4   tmdbId       285770 non-null  float64\n",
            " 5   userId_x     233234 non-null  float64\n",
            " 6   tag          233234 non-null  object \n",
            " 7   timestamp_x  233234 non-null  float64\n",
            " 8   userId_y     285762 non-null  float64\n",
            " 9   rating       285762 non-null  float64\n",
            " 10  timestamp_y  285762 non-null  float64\n",
            "dtypes: float64(6), int64(2), object(3)\n",
            "memory usage: 26.2+ MB\n",
            "None\n",
            "\n",
            "Data Types of Columns:\n",
            "movieId          int64\n",
            "title           object\n",
            "genres          object\n",
            "imdbId           int64\n",
            "tmdbId         float64\n",
            "userId_x       float64\n",
            "tag             object\n",
            "timestamp_x    float64\n",
            "userId_y       float64\n",
            "rating         float64\n",
            "timestamp_y    float64\n",
            "dtype: object\n",
            "\n",
            "First few rows of new DataFrame:\n",
            "   movieId             title                                       genres  \\\n",
            "0        1  Toy Story (1995)  Adventure|Animation|Children|Comedy|Fantasy   \n",
            "1        1  Toy Story (1995)  Adventure|Animation|Children|Comedy|Fantasy   \n",
            "2        1  Toy Story (1995)  Adventure|Animation|Children|Comedy|Fantasy   \n",
            "3        1  Toy Story (1995)  Adventure|Animation|Children|Comedy|Fantasy   \n",
            "4        1  Toy Story (1995)  Adventure|Animation|Children|Comedy|Fantasy   \n",
            "\n",
            "   imdbId  tmdbId  userId_x    tag   timestamp_x  userId_y  rating  \\\n",
            "0  114709   862.0     336.0  pixar  1.139046e+09       1.0     4.0   \n",
            "1  114709   862.0     336.0  pixar  1.139046e+09       5.0     4.0   \n",
            "2  114709   862.0     336.0  pixar  1.139046e+09       7.0     4.5   \n",
            "3  114709   862.0     336.0  pixar  1.139046e+09      15.0     2.5   \n",
            "4  114709   862.0     336.0  pixar  1.139046e+09      17.0     4.5   \n",
            "\n",
            "    timestamp_y  \n",
            "0  9.649827e+08  \n",
            "1  8.474350e+08  \n",
            "2  1.106636e+09  \n",
            "3  1.510578e+09  \n",
            "4  1.305696e+09  \n"
          ]
        }
      ]
    },
    {
      "cell_type": "markdown",
      "source": [
        "The merged dataframe has:\n",
        "\n",
        "Rows-285,783.\n",
        "\n",
        "Columns-11.\n",
        "\n",
        "Numerical Variables-8. (movieID, imdbID, tmdbID, UserID_X, timestamp_x, UserID_y, timestamp_y, rating.)\n",
        "\n",
        "Categorical Variables-3. (title, genre, tag.)"
      ],
      "metadata": {
        "id": "G-pov7fkOC6F"
      }
    },
    {
      "cell_type": "markdown",
      "source": [
        "Renaming the Columns with similar names to avoid confusion."
      ],
      "metadata": {
        "id": "CzRkjNiCQtNP"
      }
    },
    {
      "cell_type": "code",
      "source": [
        "# Rename the first set of columns from tags dataframe.\n",
        "new_df = new_df.rename(columns={'userId_x': 'tags_userId', 'timestamp_x': 'tags_timestamp'})\n",
        "\n",
        "# Rename the second set of columns from ratings dataframe.\n",
        "new_df = new_df.rename(columns={'userId_y': 'ratings_userId', 'timestamp_y': 'ratings_timestamp'})\n",
        "new_df.rename\n"
      ],
      "metadata": {
        "colab": {
          "base_uri": "https://localhost:8080/"
        },
        "id": "B8sLJD01QLQS",
        "outputId": "27bd2812-8fa0-428d-9dbf-d172bc883836"
      },
      "execution_count": 22,
      "outputs": [
        {
          "output_type": "execute_result",
          "data": {
            "text/plain": [
              "<bound method DataFrame.rename of         movieId                                      title  \\\n",
              "0             1                           Toy Story (1995)   \n",
              "1             1                           Toy Story (1995)   \n",
              "2             1                           Toy Story (1995)   \n",
              "3             1                           Toy Story (1995)   \n",
              "4             1                           Toy Story (1995)   \n",
              "...         ...                                        ...   \n",
              "285778   193581  Black Butler: Book of the Atlantic (2017)   \n",
              "285779   193583               No Game No Life: Zero (2017)   \n",
              "285780   193585                               Flint (2017)   \n",
              "285781   193587        Bungo Stray Dogs: Dead Apple (2018)   \n",
              "285782   193609        Andrew Dice Clay: Dice Rules (1991)   \n",
              "\n",
              "                                             genres   imdbId    tmdbId  \\\n",
              "0       Adventure|Animation|Children|Comedy|Fantasy   114709     862.0   \n",
              "1       Adventure|Animation|Children|Comedy|Fantasy   114709     862.0   \n",
              "2       Adventure|Animation|Children|Comedy|Fantasy   114709     862.0   \n",
              "3       Adventure|Animation|Children|Comedy|Fantasy   114709     862.0   \n",
              "4       Adventure|Animation|Children|Comedy|Fantasy   114709     862.0   \n",
              "...                                             ...      ...       ...   \n",
              "285778              Action|Animation|Comedy|Fantasy  5476944  432131.0   \n",
              "285779                     Animation|Comedy|Fantasy  5914996  445030.0   \n",
              "285780                                        Drama  6397426  479308.0   \n",
              "285781                             Action|Animation  8391976  483455.0   \n",
              "285782                                       Comedy   101726   37891.0   \n",
              "\n",
              "        tags_userId    tag  tags_timestamp  ratings_userId  rating  \\\n",
              "0             336.0  pixar    1.139046e+09             1.0     4.0   \n",
              "1             336.0  pixar    1.139046e+09             5.0     4.0   \n",
              "2             336.0  pixar    1.139046e+09             7.0     4.5   \n",
              "3             336.0  pixar    1.139046e+09            15.0     2.5   \n",
              "4             336.0  pixar    1.139046e+09            17.0     4.5   \n",
              "...             ...    ...             ...             ...     ...   \n",
              "285778          NaN    NaN             NaN           184.0     4.0   \n",
              "285779          NaN    NaN             NaN           184.0     3.5   \n",
              "285780          NaN    NaN             NaN           184.0     3.5   \n",
              "285781          NaN    NaN             NaN           184.0     3.5   \n",
              "285782          NaN    NaN             NaN           331.0     4.0   \n",
              "\n",
              "        ratings_timestamp  \n",
              "0            9.649827e+08  \n",
              "1            8.474350e+08  \n",
              "2            1.106636e+09  \n",
              "3            1.510578e+09  \n",
              "4            1.305696e+09  \n",
              "...                   ...  \n",
              "285778       1.537109e+09  \n",
              "285779       1.537110e+09  \n",
              "285780       1.537110e+09  \n",
              "285781       1.537110e+09  \n",
              "285782       1.537158e+09  \n",
              "\n",
              "[285783 rows x 11 columns]>"
            ]
          },
          "metadata": {},
          "execution_count": 22
        }
      ]
    },
    {
      "cell_type": "code",
      "source": [
        "# info of the new dataframe.\n",
        "new_df.info()"
      ],
      "metadata": {
        "colab": {
          "base_uri": "https://localhost:8080/"
        },
        "id": "0ipyMal3SKuq",
        "outputId": "756194a3-3c75-43a6-e50f-c9eeb57cfc5d"
      },
      "execution_count": 25,
      "outputs": [
        {
          "output_type": "stream",
          "name": "stdout",
          "text": [
            "<class 'pandas.core.frame.DataFrame'>\n",
            "Int64Index: 285783 entries, 0 to 285782\n",
            "Data columns (total 11 columns):\n",
            " #   Column             Non-Null Count   Dtype  \n",
            "---  ------             --------------   -----  \n",
            " 0   movieId            285783 non-null  int64  \n",
            " 1   title              285783 non-null  object \n",
            " 2   genres             285783 non-null  object \n",
            " 3   imdbId             285783 non-null  int64  \n",
            " 4   tmdbId             285770 non-null  float64\n",
            " 5   tags_userId        233234 non-null  float64\n",
            " 6   tag                233234 non-null  object \n",
            " 7   tags_timestamp     233234 non-null  float64\n",
            " 8   ratings_userId     285762 non-null  float64\n",
            " 9   rating             285762 non-null  float64\n",
            " 10  ratings_timestamp  285762 non-null  float64\n",
            "dtypes: float64(6), int64(2), object(3)\n",
            "memory usage: 26.2+ MB\n"
          ]
        }
      ]
    },
    {
      "cell_type": "code",
      "source": [
        "# summary statistics for the new dataframe.\n",
        "new_df.describe()"
      ],
      "metadata": {
        "colab": {
          "base_uri": "https://localhost:8080/",
          "height": 300
        },
        "id": "Wj28gFuBTW9I",
        "outputId": "7005930b-3acc-4493-a5b5-241b8a0acb25"
      },
      "execution_count": 26,
      "outputs": [
        {
          "output_type": "execute_result",
          "data": {
            "text/plain": [
              "             movieId        imdbId         tmdbId    tags_userId  \\\n",
              "count  285783.000000  2.857830e+05  285770.000000  233234.000000   \n",
              "mean    14927.663741  2.956050e+05   12797.315320     470.681354   \n",
              "std     31402.673519  5.150156e+05   43479.255523     153.324249   \n",
              "min         1.000000  4.170000e+02       2.000000       2.000000   \n",
              "25%       296.000000  1.098300e+05     489.000000     424.000000   \n",
              "50%      1721.000000  1.125730e+05     680.000000     477.000000   \n",
              "75%      5673.000000  2.415270e+05    8963.000000     599.000000   \n",
              "max    193609.000000  8.391976e+06  525662.000000     610.000000   \n",
              "\n",
              "       tags_timestamp  ratings_userId         rating  ratings_timestamp  \n",
              "count    2.332340e+05   285762.000000  285762.000000       2.857620e+05  \n",
              "mean     1.384754e+09      313.894279       3.841270       1.214707e+09  \n",
              "std      1.534705e+08      179.451387       1.020798       2.233730e+08  \n",
              "min      1.137179e+09        1.000000       0.500000       8.281246e+08  \n",
              "25%      1.242494e+09      160.000000       3.000000       1.019133e+09  \n",
              "50%      1.457901e+09      314.000000       4.000000       1.211377e+09  \n",
              "75%      1.498457e+09      465.000000       4.500000       1.445346e+09  \n",
              "max      1.537099e+09      610.000000       5.000000       1.537799e+09  "
            ],
            "text/html": [
              "\n",
              "  <div id=\"df-43ea63df-9a04-450a-9dec-d0fe23733278\" class=\"colab-df-container\">\n",
              "    <div>\n",
              "<style scoped>\n",
              "    .dataframe tbody tr th:only-of-type {\n",
              "        vertical-align: middle;\n",
              "    }\n",
              "\n",
              "    .dataframe tbody tr th {\n",
              "        vertical-align: top;\n",
              "    }\n",
              "\n",
              "    .dataframe thead th {\n",
              "        text-align: right;\n",
              "    }\n",
              "</style>\n",
              "<table border=\"1\" class=\"dataframe\">\n",
              "  <thead>\n",
              "    <tr style=\"text-align: right;\">\n",
              "      <th></th>\n",
              "      <th>movieId</th>\n",
              "      <th>imdbId</th>\n",
              "      <th>tmdbId</th>\n",
              "      <th>tags_userId</th>\n",
              "      <th>tags_timestamp</th>\n",
              "      <th>ratings_userId</th>\n",
              "      <th>rating</th>\n",
              "      <th>ratings_timestamp</th>\n",
              "    </tr>\n",
              "  </thead>\n",
              "  <tbody>\n",
              "    <tr>\n",
              "      <th>count</th>\n",
              "      <td>285783.000000</td>\n",
              "      <td>2.857830e+05</td>\n",
              "      <td>285770.000000</td>\n",
              "      <td>233234.000000</td>\n",
              "      <td>2.332340e+05</td>\n",
              "      <td>285762.000000</td>\n",
              "      <td>285762.000000</td>\n",
              "      <td>2.857620e+05</td>\n",
              "    </tr>\n",
              "    <tr>\n",
              "      <th>mean</th>\n",
              "      <td>14927.663741</td>\n",
              "      <td>2.956050e+05</td>\n",
              "      <td>12797.315320</td>\n",
              "      <td>470.681354</td>\n",
              "      <td>1.384754e+09</td>\n",
              "      <td>313.894279</td>\n",
              "      <td>3.841270</td>\n",
              "      <td>1.214707e+09</td>\n",
              "    </tr>\n",
              "    <tr>\n",
              "      <th>std</th>\n",
              "      <td>31402.673519</td>\n",
              "      <td>5.150156e+05</td>\n",
              "      <td>43479.255523</td>\n",
              "      <td>153.324249</td>\n",
              "      <td>1.534705e+08</td>\n",
              "      <td>179.451387</td>\n",
              "      <td>1.020798</td>\n",
              "      <td>2.233730e+08</td>\n",
              "    </tr>\n",
              "    <tr>\n",
              "      <th>min</th>\n",
              "      <td>1.000000</td>\n",
              "      <td>4.170000e+02</td>\n",
              "      <td>2.000000</td>\n",
              "      <td>2.000000</td>\n",
              "      <td>1.137179e+09</td>\n",
              "      <td>1.000000</td>\n",
              "      <td>0.500000</td>\n",
              "      <td>8.281246e+08</td>\n",
              "    </tr>\n",
              "    <tr>\n",
              "      <th>25%</th>\n",
              "      <td>296.000000</td>\n",
              "      <td>1.098300e+05</td>\n",
              "      <td>489.000000</td>\n",
              "      <td>424.000000</td>\n",
              "      <td>1.242494e+09</td>\n",
              "      <td>160.000000</td>\n",
              "      <td>3.000000</td>\n",
              "      <td>1.019133e+09</td>\n",
              "    </tr>\n",
              "    <tr>\n",
              "      <th>50%</th>\n",
              "      <td>1721.000000</td>\n",
              "      <td>1.125730e+05</td>\n",
              "      <td>680.000000</td>\n",
              "      <td>477.000000</td>\n",
              "      <td>1.457901e+09</td>\n",
              "      <td>314.000000</td>\n",
              "      <td>4.000000</td>\n",
              "      <td>1.211377e+09</td>\n",
              "    </tr>\n",
              "    <tr>\n",
              "      <th>75%</th>\n",
              "      <td>5673.000000</td>\n",
              "      <td>2.415270e+05</td>\n",
              "      <td>8963.000000</td>\n",
              "      <td>599.000000</td>\n",
              "      <td>1.498457e+09</td>\n",
              "      <td>465.000000</td>\n",
              "      <td>4.500000</td>\n",
              "      <td>1.445346e+09</td>\n",
              "    </tr>\n",
              "    <tr>\n",
              "      <th>max</th>\n",
              "      <td>193609.000000</td>\n",
              "      <td>8.391976e+06</td>\n",
              "      <td>525662.000000</td>\n",
              "      <td>610.000000</td>\n",
              "      <td>1.537099e+09</td>\n",
              "      <td>610.000000</td>\n",
              "      <td>5.000000</td>\n",
              "      <td>1.537799e+09</td>\n",
              "    </tr>\n",
              "  </tbody>\n",
              "</table>\n",
              "</div>\n",
              "    <div class=\"colab-df-buttons\">\n",
              "\n",
              "  <div class=\"colab-df-container\">\n",
              "    <button class=\"colab-df-convert\" onclick=\"convertToInteractive('df-43ea63df-9a04-450a-9dec-d0fe23733278')\"\n",
              "            title=\"Convert this dataframe to an interactive table.\"\n",
              "            style=\"display:none;\">\n",
              "\n",
              "  <svg xmlns=\"http://www.w3.org/2000/svg\" height=\"24px\" viewBox=\"0 -960 960 960\">\n",
              "    <path d=\"M120-120v-720h720v720H120Zm60-500h600v-160H180v160Zm220 220h160v-160H400v160Zm0 220h160v-160H400v160ZM180-400h160v-160H180v160Zm440 0h160v-160H620v160ZM180-180h160v-160H180v160Zm440 0h160v-160H620v160Z\"/>\n",
              "  </svg>\n",
              "    </button>\n",
              "\n",
              "  <style>\n",
              "    .colab-df-container {\n",
              "      display:flex;\n",
              "      gap: 12px;\n",
              "    }\n",
              "\n",
              "    .colab-df-convert {\n",
              "      background-color: #E8F0FE;\n",
              "      border: none;\n",
              "      border-radius: 50%;\n",
              "      cursor: pointer;\n",
              "      display: none;\n",
              "      fill: #1967D2;\n",
              "      height: 32px;\n",
              "      padding: 0 0 0 0;\n",
              "      width: 32px;\n",
              "    }\n",
              "\n",
              "    .colab-df-convert:hover {\n",
              "      background-color: #E2EBFA;\n",
              "      box-shadow: 0px 1px 2px rgba(60, 64, 67, 0.3), 0px 1px 3px 1px rgba(60, 64, 67, 0.15);\n",
              "      fill: #174EA6;\n",
              "    }\n",
              "\n",
              "    .colab-df-buttons div {\n",
              "      margin-bottom: 4px;\n",
              "    }\n",
              "\n",
              "    [theme=dark] .colab-df-convert {\n",
              "      background-color: #3B4455;\n",
              "      fill: #D2E3FC;\n",
              "    }\n",
              "\n",
              "    [theme=dark] .colab-df-convert:hover {\n",
              "      background-color: #434B5C;\n",
              "      box-shadow: 0px 1px 3px 1px rgba(0, 0, 0, 0.15);\n",
              "      filter: drop-shadow(0px 1px 2px rgba(0, 0, 0, 0.3));\n",
              "      fill: #FFFFFF;\n",
              "    }\n",
              "  </style>\n",
              "\n",
              "    <script>\n",
              "      const buttonEl =\n",
              "        document.querySelector('#df-43ea63df-9a04-450a-9dec-d0fe23733278 button.colab-df-convert');\n",
              "      buttonEl.style.display =\n",
              "        google.colab.kernel.accessAllowed ? 'block' : 'none';\n",
              "\n",
              "      async function convertToInteractive(key) {\n",
              "        const element = document.querySelector('#df-43ea63df-9a04-450a-9dec-d0fe23733278');\n",
              "        const dataTable =\n",
              "          await google.colab.kernel.invokeFunction('convertToInteractive',\n",
              "                                                    [key], {});\n",
              "        if (!dataTable) return;\n",
              "\n",
              "        const docLinkHtml = 'Like what you see? Visit the ' +\n",
              "          '<a target=\"_blank\" href=https://colab.research.google.com/notebooks/data_table.ipynb>data table notebook</a>'\n",
              "          + ' to learn more about interactive tables.';\n",
              "        element.innerHTML = '';\n",
              "        dataTable['output_type'] = 'display_data';\n",
              "        await google.colab.output.renderOutput(dataTable, element);\n",
              "        const docLink = document.createElement('div');\n",
              "        docLink.innerHTML = docLinkHtml;\n",
              "        element.appendChild(docLink);\n",
              "      }\n",
              "    </script>\n",
              "  </div>\n",
              "\n",
              "\n",
              "<div id=\"df-2447172e-26d5-4152-8f04-104605c51c49\">\n",
              "  <button class=\"colab-df-quickchart\" onclick=\"quickchart('df-2447172e-26d5-4152-8f04-104605c51c49')\"\n",
              "            title=\"Suggest charts\"\n",
              "            style=\"display:none;\">\n",
              "\n",
              "<svg xmlns=\"http://www.w3.org/2000/svg\" height=\"24px\"viewBox=\"0 0 24 24\"\n",
              "     width=\"24px\">\n",
              "    <g>\n",
              "        <path d=\"M19 3H5c-1.1 0-2 .9-2 2v14c0 1.1.9 2 2 2h14c1.1 0 2-.9 2-2V5c0-1.1-.9-2-2-2zM9 17H7v-7h2v7zm4 0h-2V7h2v10zm4 0h-2v-4h2v4z\"/>\n",
              "    </g>\n",
              "</svg>\n",
              "  </button>\n",
              "\n",
              "<style>\n",
              "  .colab-df-quickchart {\n",
              "      --bg-color: #E8F0FE;\n",
              "      --fill-color: #1967D2;\n",
              "      --hover-bg-color: #E2EBFA;\n",
              "      --hover-fill-color: #174EA6;\n",
              "      --disabled-fill-color: #AAA;\n",
              "      --disabled-bg-color: #DDD;\n",
              "  }\n",
              "\n",
              "  [theme=dark] .colab-df-quickchart {\n",
              "      --bg-color: #3B4455;\n",
              "      --fill-color: #D2E3FC;\n",
              "      --hover-bg-color: #434B5C;\n",
              "      --hover-fill-color: #FFFFFF;\n",
              "      --disabled-bg-color: #3B4455;\n",
              "      --disabled-fill-color: #666;\n",
              "  }\n",
              "\n",
              "  .colab-df-quickchart {\n",
              "    background-color: var(--bg-color);\n",
              "    border: none;\n",
              "    border-radius: 50%;\n",
              "    cursor: pointer;\n",
              "    display: none;\n",
              "    fill: var(--fill-color);\n",
              "    height: 32px;\n",
              "    padding: 0;\n",
              "    width: 32px;\n",
              "  }\n",
              "\n",
              "  .colab-df-quickchart:hover {\n",
              "    background-color: var(--hover-bg-color);\n",
              "    box-shadow: 0 1px 2px rgba(60, 64, 67, 0.3), 0 1px 3px 1px rgba(60, 64, 67, 0.15);\n",
              "    fill: var(--button-hover-fill-color);\n",
              "  }\n",
              "\n",
              "  .colab-df-quickchart-complete:disabled,\n",
              "  .colab-df-quickchart-complete:disabled:hover {\n",
              "    background-color: var(--disabled-bg-color);\n",
              "    fill: var(--disabled-fill-color);\n",
              "    box-shadow: none;\n",
              "  }\n",
              "\n",
              "  .colab-df-spinner {\n",
              "    border: 2px solid var(--fill-color);\n",
              "    border-color: transparent;\n",
              "    border-bottom-color: var(--fill-color);\n",
              "    animation:\n",
              "      spin 1s steps(1) infinite;\n",
              "  }\n",
              "\n",
              "  @keyframes spin {\n",
              "    0% {\n",
              "      border-color: transparent;\n",
              "      border-bottom-color: var(--fill-color);\n",
              "      border-left-color: var(--fill-color);\n",
              "    }\n",
              "    20% {\n",
              "      border-color: transparent;\n",
              "      border-left-color: var(--fill-color);\n",
              "      border-top-color: var(--fill-color);\n",
              "    }\n",
              "    30% {\n",
              "      border-color: transparent;\n",
              "      border-left-color: var(--fill-color);\n",
              "      border-top-color: var(--fill-color);\n",
              "      border-right-color: var(--fill-color);\n",
              "    }\n",
              "    40% {\n",
              "      border-color: transparent;\n",
              "      border-right-color: var(--fill-color);\n",
              "      border-top-color: var(--fill-color);\n",
              "    }\n",
              "    60% {\n",
              "      border-color: transparent;\n",
              "      border-right-color: var(--fill-color);\n",
              "    }\n",
              "    80% {\n",
              "      border-color: transparent;\n",
              "      border-right-color: var(--fill-color);\n",
              "      border-bottom-color: var(--fill-color);\n",
              "    }\n",
              "    90% {\n",
              "      border-color: transparent;\n",
              "      border-bottom-color: var(--fill-color);\n",
              "    }\n",
              "  }\n",
              "</style>\n",
              "\n",
              "  <script>\n",
              "    async function quickchart(key) {\n",
              "      const quickchartButtonEl =\n",
              "        document.querySelector('#' + key + ' button');\n",
              "      quickchartButtonEl.disabled = true;  // To prevent multiple clicks.\n",
              "      quickchartButtonEl.classList.add('colab-df-spinner');\n",
              "      try {\n",
              "        const charts = await google.colab.kernel.invokeFunction(\n",
              "            'suggestCharts', [key], {});\n",
              "      } catch (error) {\n",
              "        console.error('Error during call to suggestCharts:', error);\n",
              "      }\n",
              "      quickchartButtonEl.classList.remove('colab-df-spinner');\n",
              "      quickchartButtonEl.classList.add('colab-df-quickchart-complete');\n",
              "    }\n",
              "    (() => {\n",
              "      let quickchartButtonEl =\n",
              "        document.querySelector('#df-2447172e-26d5-4152-8f04-104605c51c49 button');\n",
              "      quickchartButtonEl.style.display =\n",
              "        google.colab.kernel.accessAllowed ? 'block' : 'none';\n",
              "    })();\n",
              "  </script>\n",
              "</div>\n",
              "\n",
              "    </div>\n",
              "  </div>\n"
            ]
          },
          "metadata": {},
          "execution_count": 26
        }
      ]
    },
    {
      "cell_type": "markdown",
      "source": [
        "The dataset seems to cover a diverse range of movies, users, and timestamps.\n",
        "\n",
        "Ratings exhibit a moderate spread, with a mean around 3.84, indicating that, on average, movies are rated relatively positively.\n",
        "\n",
        "The temporal distribution of tags and ratings spans a significant period, as indicated by the timestamp statistics."
      ],
      "metadata": {
        "id": "M38nSDZvTtE0"
      }
    },
    {
      "cell_type": "markdown",
      "source": [
        "# **DATA CLEANING.**"
      ],
      "metadata": {
        "id": "hIaUC9sjQ6Dk"
      }
    },
    {
      "cell_type": "markdown",
      "source": [
        "Check missing values, outliers, duplicates, inconsistencies, memory optimization, and correct data types."
      ],
      "metadata": {
        "id": "1rDshHHLWnks"
      }
    },
    {
      "cell_type": "code",
      "source": [
        "# Check for missing values\n",
        "missing_values = new_df.isnull().sum()\n",
        "print(\"Missing Values:\\n\", missing_values)\n",
        "\n",
        "# Check for outliers (assuming numeric columns)\n",
        "numeric_columns = new_df.select_dtypes(include=[np.number]).columns\n",
        "outliers = new_df[numeric_columns].apply(lambda x: (x - x.mean()).abs() > 3 * x.std())\n",
        "print(\"\\nOutliers:\\n\", outliers.sum())\n",
        "\n",
        "# Check for duplicates\n",
        "duplicates = new_df.duplicated().sum()\n",
        "print(\"\\nDuplicates:\", duplicates)\n",
        "\n",
        "# Check for inconsistencies or errors (in genres)\n",
        "# Assuming genres column has pipe-separated values\n",
        "inconsistent_genres = new_df['genres'].apply(lambda x: '|' in x)\n",
        "print(\"\\nInconsistent Genres:\", inconsistent_genres.sum())\n",
        "\n",
        "# Optimize memory usage\n",
        "new_df_optimized = new_df.copy()\n",
        "for col in new_df_optimized.columns:\n",
        "    if new_df_optimized[col].dtype == 'object':\n",
        "        new_df_optimized[col] = new_df_optimized[col].astype('category')\n",
        "\n",
        "# Display information after optimization\n",
        "print(\"\\nOptimized DataFrame:\")\n",
        "print(\"Shape:\", new_df_optimized.shape)\n",
        "print(new_df_optimized.info())\n",
        "\n",
        "# Ensure correct data types for each column\n",
        "# Convert timestamp columns to datetime\n",
        "timestamp_columns = ['tags_timestamp', 'ratings_timestamp']\n",
        "new_df_optimized[timestamp_columns] = new_df_optimized[timestamp_columns].apply(pd.to_datetime, unit='s')\n",
        "\n",
        "# Display information after ensuring correct data types\n",
        "print(\"\\nDataFrame with Correct Data Types:\")\n",
        "print(new_df_optimized.info())\n"
      ],
      "metadata": {
        "colab": {
          "base_uri": "https://localhost:8080/"
        },
        "id": "W2O2Yvx3Qd1v",
        "outputId": "d45e8091-abf9-46fc-e372-86a569b3b212"
      },
      "execution_count": 27,
      "outputs": [
        {
          "output_type": "stream",
          "name": "stdout",
          "text": [
            "Missing Values:\n",
            " movieId                  0\n",
            "title                    0\n",
            "genres                   0\n",
            "imdbId                   0\n",
            "tmdbId                  13\n",
            "tags_userId          52549\n",
            "tag                  52549\n",
            "tags_timestamp       52549\n",
            "ratings_userId          21\n",
            "rating                  21\n",
            "ratings_timestamp       21\n",
            "dtype: int64\n",
            "\n",
            "Outliers:\n",
            " movieId              7998\n",
            "imdbId               6811\n",
            "tmdbId               7420\n",
            "tags_userId           386\n",
            "tags_timestamp          0\n",
            "ratings_userId          0\n",
            "rating               2896\n",
            "ratings_timestamp       0\n",
            "dtype: int64\n",
            "\n",
            "Duplicates: 0\n",
            "\n",
            "Inconsistent Genres: 261486\n",
            "\n",
            "Optimized DataFrame:\n",
            "Shape: (285783, 11)\n",
            "<class 'pandas.core.frame.DataFrame'>\n",
            "Int64Index: 285783 entries, 0 to 285782\n",
            "Data columns (total 11 columns):\n",
            " #   Column             Non-Null Count   Dtype   \n",
            "---  ------             --------------   -----   \n",
            " 0   movieId            285783 non-null  int64   \n",
            " 1   title              285783 non-null  category\n",
            " 2   genres             285783 non-null  category\n",
            " 3   imdbId             285783 non-null  int64   \n",
            " 4   tmdbId             285770 non-null  float64 \n",
            " 5   tags_userId        233234 non-null  float64 \n",
            " 6   tag                233234 non-null  category\n",
            " 7   tags_timestamp     233234 non-null  float64 \n",
            " 8   ratings_userId     285762 non-null  float64 \n",
            " 9   rating             285762 non-null  float64 \n",
            " 10  ratings_timestamp  285762 non-null  float64 \n",
            "dtypes: category(3), float64(6), int64(2)\n",
            "memory usage: 21.7 MB\n",
            "None\n",
            "\n",
            "DataFrame with Correct Data Types:\n",
            "<class 'pandas.core.frame.DataFrame'>\n",
            "Int64Index: 285783 entries, 0 to 285782\n",
            "Data columns (total 11 columns):\n",
            " #   Column             Non-Null Count   Dtype         \n",
            "---  ------             --------------   -----         \n",
            " 0   movieId            285783 non-null  int64         \n",
            " 1   title              285783 non-null  category      \n",
            " 2   genres             285783 non-null  category      \n",
            " 3   imdbId             285783 non-null  int64         \n",
            " 4   tmdbId             285770 non-null  float64       \n",
            " 5   tags_userId        233234 non-null  float64       \n",
            " 6   tag                233234 non-null  category      \n",
            " 7   tags_timestamp     233234 non-null  datetime64[ns]\n",
            " 8   ratings_userId     285762 non-null  float64       \n",
            " 9   rating             285762 non-null  float64       \n",
            " 10  ratings_timestamp  285762 non-null  datetime64[ns]\n",
            "dtypes: category(3), datetime64[ns](2), float64(4), int64(2)\n",
            "memory usage: 21.7 MB\n",
            "None\n"
          ]
        }
      ]
    }
  ]
}